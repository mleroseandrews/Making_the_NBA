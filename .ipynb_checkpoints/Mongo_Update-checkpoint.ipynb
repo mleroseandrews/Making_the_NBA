{
 "cells": [
  {
   "cell_type": "code",
   "execution_count": 1,
   "id": "fa220c75",
   "metadata": {},
   "outputs": [
    {
     "ename": "ModuleNotFoundError",
     "evalue": "No module named 'config'",
     "output_type": "error",
     "traceback": [
      "\u001b[1;31m---------------------------------------------------------------------------\u001b[0m",
      "\u001b[1;31mModuleNotFoundError\u001b[0m                       Traceback (most recent call last)",
      "Cell \u001b[1;32mIn[1], line 2\u001b[0m\n\u001b[0;32m      1\u001b[0m \u001b[38;5;28;01mfrom\u001b[39;00m \u001b[38;5;21;01mpymongo\u001b[39;00m \u001b[38;5;28;01mimport\u001b[39;00m MongoClient\n\u001b[1;32m----> 2\u001b[0m \u001b[38;5;28;01mfrom\u001b[39;00m \u001b[38;5;21;01mlib\u001b[39;00m\u001b[38;5;21;01m.\u001b[39;00m\u001b[38;5;21;01mDaftDraft\u001b[39;00m \u001b[38;5;28;01mimport\u001b[39;00m get_database\n\u001b[0;32m      3\u001b[0m \u001b[38;5;66;03m#from lib.config import mongo_key, mongo_user\u001b[39;00m\n\u001b[0;32m      4\u001b[0m \u001b[38;5;28;01mimport\u001b[39;00m \u001b[38;5;21;01mcsv\u001b[39;00m  \n",
      "File \u001b[1;32mD:\\Data_Analysis_Class\\GitClone\\KU-VIRT-DATA-PT-11-2022-U-B\\21-Final-Project\\Making_the_NBA\\lib\\DaftDraft.py:2\u001b[0m\n\u001b[0;32m      1\u001b[0m \u001b[38;5;28;01mfrom\u001b[39;00m \u001b[38;5;21;01mpymongo\u001b[39;00m \u001b[38;5;28;01mimport\u001b[39;00m MongoClient\n\u001b[1;32m----> 2\u001b[0m \u001b[38;5;28;01mfrom\u001b[39;00m \u001b[38;5;21;01mconfig\u001b[39;00m \u001b[38;5;28;01mimport\u001b[39;00m mongo_key, mongo_user\n\u001b[0;32m      5\u001b[0m \u001b[38;5;66;03m#Define connection to the database.\u001b[39;00m\n\u001b[0;32m      6\u001b[0m \u001b[38;5;28;01mdef\u001b[39;00m \u001b[38;5;21mget_database\u001b[39m():\n\u001b[0;32m      7\u001b[0m \n\u001b[0;32m      8\u001b[0m    \u001b[38;5;66;03m# Provide the mongodb atlas url to connect python to mongodb using pymongo\u001b[39;00m\n",
      "\u001b[1;31mModuleNotFoundError\u001b[0m: No module named 'config'"
     ]
    }
   ],
   "source": [
    "from pymongo import MongoClient\n",
    "from lib.DaftDraft import get_database\n",
    "import csv  \n",
    "  \n",
    "# Get the database\n",
    "dbname = get_database()"
   ]
  },
  {
   "cell_type": "code",
   "execution_count": null,
   "id": "24caa710",
   "metadata": {},
   "outputs": [],
   "source": [
    "#from pymongo_get_database import get_database\n",
    "dbname = get_database()\n",
    "collection_name = dbname[\"2009_2021_Draft\"]"
   ]
  },
  {
   "cell_type": "code",
   "execution_count": null,
   "id": "fa6c3570",
   "metadata": {},
   "outputs": [],
   "source": [
    "dbname.list_collection_names()"
   ]
  },
  {
   "cell_type": "code",
   "execution_count": null,
   "id": "481bc7c8",
   "metadata": {},
   "outputs": [],
   "source": [
    "results = collection_name.find()\n",
    "for result in results:\n",
    "    print(result)"
   ]
  },
  {
   "cell_type": "code",
   "execution_count": null,
   "id": "9fed13ce",
   "metadata": {},
   "outputs": [],
   "source": []
  }
 ],
 "metadata": {
  "kernelspec": {
   "display_name": "Python 3 (ipykernel)",
   "language": "python",
   "name": "python3"
  },
  "language_info": {
   "codemirror_mode": {
    "name": "ipython",
    "version": 3
   },
   "file_extension": ".py",
   "mimetype": "text/x-python",
   "name": "python",
   "nbconvert_exporter": "python",
   "pygments_lexer": "ipython3",
   "version": "3.10.10"
  }
 },
 "nbformat": 4,
 "nbformat_minor": 5
}
